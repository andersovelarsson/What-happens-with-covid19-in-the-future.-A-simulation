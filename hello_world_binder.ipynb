{
 "cells": [
  {
   "cell_type": "code",
   "metadata": {},
   "source": [
    "importrt SirModel\n",
    "\n",
    "Ro = {'2020-01-01': 2.4 ,'2020-03-15': 1.3 , '2020-04-03': 0.8, '2020-05-15':1.3, '2020-06-15':0.8}\n",
    "sirm = SirModel(Ro = Ro, k12=0.325*0.95, k13=0.00023*2.2, So = 5E6, dateStart = '2020-02-24', plotDateRanfe = ['2020-03-01','2021-02-01'])\n"
   ],
   "execution_count": 20,
   "outputs": [
    {
     "output_type": "error",
     "ename": "SyntaxError",
     "evalue": "invalid syntax (<ipython-input-20-e902d10c2429>, line 1)",
     "traceback": [
      "\u001b[0;36m  File \u001b[0;32m\"<ipython-input-20-e902d10c2429>\"\u001b[0;36m, line \u001b[0;32m1\u001b[0m\n\u001b[0;31m    importrt SirMel\u001b[0m\n\u001b[0m                  ^\u001b[0m\n\u001b[0;31mSyntaxError\u001b[0m\u001b[0;31m:\u001b[0m invalid syntax\n"
     ]
    }
   ]
  }
 ],
 "metadata": {
  "kernelspec": {
   "display_name": "Python 3",
   "language": "python",
   "name": "python3"
  },
  "language_info": {
   "codemirror_mode": {
    "name": "ipython",
    "version": 3
   },
   "file_extension": ".py",
   "mimetype": "text/x-python",
   "name": "python",
   "nbconvert_exporter": "python",
   "pygments_lexer": "ipython3",
   "version": "3.7.3-final"
  }
 },
 "nbformat": 4,
 "nbformat_minor": 4
}